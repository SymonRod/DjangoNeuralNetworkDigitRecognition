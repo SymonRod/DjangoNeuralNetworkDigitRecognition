{
    "cells": [
        {
            "cell_type": "code",
            "execution_count": 1,
            "source": [
                "import tensorflow as tf\n",
                "import numpy as np\n",
                "\n"
            ],
            "outputs": [
                {
                    "output_type": "stream",
                    "name": "stderr",
                    "text": [
                        "2021-08-09 20:22:16.198337: W tensorflow/stream_executor/platform/default/dso_loader.cc:64] Could not load dynamic library 'libcudart.so.11.0'; dlerror: libcudart.so.11.0: cannot open shared object file: No such file or directory\n",
                        "2021-08-09 20:22:16.198360: I tensorflow/stream_executor/cuda/cudart_stub.cc:29] Ignore above cudart dlerror if you do not have a GPU set up on your machine.\n"
                    ]
                }
            ],
            "metadata": {}
        },
        {
            "cell_type": "code",
            "execution_count": 2,
            "source": [
                "mnist = tf.keras.datasets.mnist\n",
                "(training_data, training_label), (test_data,test_label) = mnist.load_data()\n",
                "training_data, test_data = training_data/255,test_data/255\n",
                "\n",
                "model = tf.keras.Sequential([\n",
                "        tf.keras.layers.Flatten(input_shape=[28,28]),\n",
                "        tf.keras.layers.Dense(128,activation=tf.nn.relu),\n",
                "        tf.keras.layers.Dense(10,activation=tf.nn.softmax)\n",
                "    ])\n",
                "model.compile(optimizer=tf.optimizers.Adam(),\n",
                "loss=\"sparse_categorical_crossentropy\",metrics=['accuracy']\n",
                ")\n",
                "model.fit(training_data,training_label,epochs=5)\n",
                "model.evaluate(test_data,test_label)\n",
                "\n",
                "prediction = model.predict(test_data)"
            ],
            "outputs": [
                {
                    "output_type": "stream",
                    "name": "stderr",
                    "text": [
                        "2021-08-09 20:22:45.465441: W tensorflow/stream_executor/platform/default/dso_loader.cc:64] Could not load dynamic library 'libcuda.so.1'; dlerror: libcuda.so.1: cannot open shared object file: No such file or directory\n",
                        "2021-08-09 20:22:45.465466: W tensorflow/stream_executor/cuda/cuda_driver.cc:326] failed call to cuInit: UNKNOWN ERROR (303)\n",
                        "2021-08-09 20:22:45.465490: I tensorflow/stream_executor/cuda/cuda_diagnostics.cc:169] retrieving CUDA diagnostic information for host: Rodesk\n",
                        "2021-08-09 20:22:45.465496: I tensorflow/stream_executor/cuda/cuda_diagnostics.cc:176] hostname: Rodesk\n",
                        "2021-08-09 20:22:45.465522: I tensorflow/stream_executor/cuda/cuda_diagnostics.cc:200] libcuda reported version is: Not found: was unable to find libcuda.so DSO loaded into this program\n",
                        "2021-08-09 20:22:45.465559: I tensorflow/stream_executor/cuda/cuda_diagnostics.cc:204] kernel reported version is: 470.57.2\n",
                        "2021-08-09 20:22:45.465776: I tensorflow/core/platform/cpu_feature_guard.cc:142] This TensorFlow binary is optimized with oneAPI Deep Neural Network Library (oneDNN) to use the following CPU instructions in performance-critical operations:  AVX2 FMA\n",
                        "To enable them in other operations, rebuild TensorFlow with the appropriate compiler flags.\n",
                        "2021-08-09 20:22:45.656436: I tensorflow/compiler/mlir/mlir_graph_optimization_pass.cc:176] None of the MLIR Optimization Passes are enabled (registered 2)\n",
                        "2021-08-09 20:22:45.668684: I tensorflow/core/platform/profile_utils/cpu_utils.cc:114] CPU Frequency: 3399950000 Hz\n"
                    ]
                },
                {
                    "output_type": "stream",
                    "name": "stdout",
                    "text": [
                        "Epoch 1/5\n",
                        "1875/1875 [==============================] - 2s 1ms/step - loss: 0.2583 - accuracy: 0.9264\n",
                        "Epoch 2/5\n",
                        "1875/1875 [==============================] - 2s 850us/step - loss: 0.1128 - accuracy: 0.9667\n",
                        "Epoch 3/5\n",
                        "1875/1875 [==============================] - 2s 834us/step - loss: 0.0768 - accuracy: 0.9768\n",
                        "Epoch 4/5\n",
                        "1875/1875 [==============================] - 2s 860us/step - loss: 0.0584 - accuracy: 0.9822\n",
                        "Epoch 5/5\n",
                        "1875/1875 [==============================] - 2s 858us/step - loss: 0.0451 - accuracy: 0.9861\n",
                        "313/313 [==============================] - 0s 630us/step - loss: 0.0809 - accuracy: 0.9747\n"
                    ]
                }
            ],
            "metadata": {}
        }
    ],
    "metadata": {
        "orig_nbformat": 4,
        "language_info": {
            "name": "python",
            "version": "3.9.6",
            "mimetype": "text/x-python",
            "codemirror_mode": {
                "name": "ipython",
                "version": 3
            },
            "pygments_lexer": "ipython3",
            "nbconvert_exporter": "python",
            "file_extension": ".py"
        },
        "kernelspec": {
            "name": "python3",
            "display_name": "Python 3.9.6 64-bit ('venv': venv)"
        },
        "interpreter": {
            "hash": "fd661b8cd105157d05e603cecc9e17896d1a2f5a54a89c2f86f4030ec5f1d9e8"
        }
    },
    "nbformat": 4,
    "nbformat_minor": 2
}